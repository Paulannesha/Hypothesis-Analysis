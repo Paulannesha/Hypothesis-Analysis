{
 "cells": [
  {
   "cell_type": "markdown",
   "id": "57f991a0-1a51-442b-8335-90b48c98ae34",
   "metadata": {},
   "source": [
    "1. State the Hypotheses:"
   ]
  },
  {
   "cell_type": "raw",
   "id": "31dace80-fcc1-4a56-a3f6-b940f9599fdf",
   "metadata": {},
   "source": [
    "Null Hypothesis (H0): There is no significant association between the type of smart home device purchased (Smart Thermostats vs. Smart Lights) and the customer satisfaction level.\n",
    "Alternative Hypothesis (H1): There is a significant association between the type of smart home device purchased (Smart Thermostats vs. Smart Lights) and the customer satisfaction level.\n"
   ]
  },
  {
   "cell_type": "markdown",
   "id": "5559c39e-9d65-47d4-b709-457a5899662a",
   "metadata": {},
   "source": [
    "2. Compute the Chi-Square Statistic.Determine the Critical Value,make decision"
   ]
  },
  {
   "cell_type": "code",
   "execution_count": 1,
   "id": "afd1c911-b4a7-44d3-8a68-2c61d83278ae",
   "metadata": {},
   "outputs": [
    {
     "name": "stdout",
     "output_type": "stream",
     "text": [
      "Chi2ContingencyResult(statistic=5.638227513227513, pvalue=0.22784371130697179, dof=4, expected_freq=array([[ 48.,  72.],\n",
      "       [ 72., 108.],\n",
      "       [ 60.,  90.],\n",
      "       [ 32.,  48.],\n",
      "       [ 28.,  42.]]))\n",
      "p value is  0.22784371130697179\n",
      "Independent (H0 holds true)\n"
     ]
    }
   ],
   "source": [
    "from scipy.stats import chi2_contingency\n",
    "\n",
    "# defining the table\n",
    "d = [[50, 70], [80,100],[60,90],[30,50],[20,50]]\n",
    "\n",
    "print(chi2_contingency(d))\n",
    "stat, p, dof, expected = chi2_contingency(d)\n",
    "# print(p)\n",
    "# type(p)\n",
    "# interpret p-value\n",
    "alpha = 0.05\n",
    "print(\"p value is \",  p)\n",
    "if p < alpha:\n",
    "    print('Dependent (reject H0)')\n",
    "else:\n",
    "    print('Independent (H0 holds true)')"
   ]
  },
  {
   "cell_type": "code",
   "execution_count": null,
   "id": "ea8f4af0-4d67-49a5-b533-59f92c67dde2",
   "metadata": {},
   "outputs": [],
   "source": []
  }
 ],
 "metadata": {
  "kernelspec": {
   "display_name": "Python 3 (ipykernel)",
   "language": "python",
   "name": "python3"
  },
  "language_info": {
   "codemirror_mode": {
    "name": "ipython",
    "version": 3
   },
   "file_extension": ".py",
   "mimetype": "text/x-python",
   "name": "python",
   "nbconvert_exporter": "python",
   "pygments_lexer": "ipython3",
   "version": "3.11.7"
  }
 },
 "nbformat": 4,
 "nbformat_minor": 5
}
