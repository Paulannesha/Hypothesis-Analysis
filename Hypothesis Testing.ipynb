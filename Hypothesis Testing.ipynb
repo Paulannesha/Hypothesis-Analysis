{
 "cells": [
  {
   "cell_type": "markdown",
   "id": "90c0e976-3347-4b2a-9be2-c6b5f8462aa6",
   "metadata": {},
   "source": [
    "1. State the Hypotheses statement:"
   ]
  },
  {
   "cell_type": "raw",
   "id": "50b8aee1-f14e-4381-ab33-d898b66dd744",
   "metadata": {},
   "source": [
    "H0: The mean weekly operating cost (μw ) is not significantly different from the theoretical weekly operating cost predicted by the model\r\n",
    "  μw =$1,000+$5X\r\n",
    "H1: The mean weekly operating cost (μw) is significantly greater than the theoretical weekly operating cost predicted by the model\r\n",
    " μw >$1,000+$5X\r\n"
   ]
  },
  {
   "cell_type": "markdown",
   "id": "9298c149-3ca0-4ad8-ba2d-972d6c0f57f1",
   "metadata": {},
   "source": [
    "2. Calculate the Test Statistic"
   ]
  },
  {
   "cell_type": "code",
   "execution_count": 4,
   "id": "c9f02ed7-9a72-43cf-ba7d-4690c9fb55ea",
   "metadata": {},
   "outputs": [
    {
     "name": "stdout",
     "output_type": "stream",
     "text": [
      "-38.0\n"
     ]
    }
   ],
   "source": [
    "import numpy as np\n",
    "x_bar=3050\n",
    "sigma=25*5\n",
    "n=25\n",
    "mu=4000\n",
    "z=(x_bar-mu)*np.sqrt(n)/sigma\n",
    "print (z)"
   ]
  },
  {
   "cell_type": "markdown",
   "id": "4081ed08-b81c-48ea-97c3-e04df21cb264",
   "metadata": {},
   "source": [
    "3. Determine the critical value"
   ]
  },
  {
   "cell_type": "code",
   "execution_count": 10,
   "id": "10c26f2d-feec-4d4c-b111-5b4b430777bd",
   "metadata": {},
   "outputs": [
    {
     "name": "stdout",
     "output_type": "stream",
     "text": [
      "0.0\n"
     ]
    }
   ],
   "source": [
    "from scipy import stats\n",
    "p=(stats.norm.cdf(z,0,1))*2\n",
    "print (p)"
   ]
  },
  {
   "cell_type": "markdown",
   "id": "524b7002-0e1b-4f9a-aa40-3b3ddd26d2cb",
   "metadata": {},
   "source": [
    "4. Make decision"
   ]
  },
  {
   "cell_type": "code",
   "execution_count": 11,
   "id": "79aaa17f-adea-4023-a2f2-f1bb40b4034a",
   "metadata": {},
   "outputs": [
    {
     "name": "stdout",
     "output_type": "stream",
     "text": [
      "Reject H0, The mean weekly operating cost (μw ) is significantly different from the theoretical weekly operating cost predicted by the model\n"
     ]
    }
   ],
   "source": [
    "alpha=0.05\n",
    "if p < alpha:\n",
    "    print(\"Reject H0, The mean weekly operating cost (μw ) is significantly different from the theoretical weekly operating cost predicted by the model\")\n",
    "else:\n",
    "    print(\"Fail to reject H0,The mean weekly operating cost (μw ) is not significantly different from the theoretical weekly operating cost predicted by the model\")"
   ]
  },
  {
   "cell_type": "raw",
   "id": "8e93388c-a072-47d0-b0ae-8e164639f1e2",
   "metadata": {},
   "source": [
    "5. Conclusion\r\n",
    "Since the critical value is higher than 0.05, reject null hypothesis, i.e., the mean weekly operating cost is much higher than the theoretical weekly operating cost, which provides strong evidence to owner’s suggestion\r\n"
   ]
  },
  {
   "cell_type": "code",
   "execution_count": null,
   "id": "883803c7-eec7-4226-ac74-94c1b2cd8963",
   "metadata": {},
   "outputs": [],
   "source": []
  }
 ],
 "metadata": {
  "kernelspec": {
   "display_name": "Python 3 (ipykernel)",
   "language": "python",
   "name": "python3"
  },
  "language_info": {
   "codemirror_mode": {
    "name": "ipython",
    "version": 3
   },
   "file_extension": ".py",
   "mimetype": "text/x-python",
   "name": "python",
   "nbconvert_exporter": "python",
   "pygments_lexer": "ipython3",
   "version": "3.11.7"
  }
 },
 "nbformat": 4,
 "nbformat_minor": 5
}
